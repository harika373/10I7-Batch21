{
  "nbformat": 4,
  "nbformat_minor": 0,
  "metadata": {
    "colab": {
      "provenance": [],
      "authorship_tag": "ABX9TyMJOxNP7yxWWK3r3UuAO6uo",
      "include_colab_link": true
    },
    "kernelspec": {
      "name": "python3",
      "display_name": "Python 3"
    },
    "language_info": {
      "name": "python"
    }
  },
  "cells": [
    {
      "cell_type": "markdown",
      "metadata": {
        "id": "view-in-github",
        "colab_type": "text"
      },
      "source": [
        "<a href=\"https://colab.research.google.com/github/harika373/10I7-Batch21/blob/main/file-handling%20using%20python.ipynb\" target=\"_parent\"><img src=\"https://colab.research.google.com/assets/colab-badge.svg\" alt=\"Open In Colab\"/></a>"
      ]
    },
    {
      "cell_type": "code",
      "source": [
        "fp=open(\"example.txt\",\"w\")\n",
        "fp.write(\"hello,B.Tech students!\\n\")\n",
        "fp.write(\"this is file handling in python.\\n\")\n",
        "fp.write(\"SR University\\n\")\n",
        "fp.write(\"Harika\\n\")\n",
        "fp.close()\n",
        "print(\"Data written successfully!\")"
      ],
      "metadata": {
        "colab": {
          "base_uri": "https://localhost:8080/"
        },
        "id": "Qp2ZMoxf8qMN",
        "outputId": "2c511ddf-0681-4843-da44-965799b66756"
      },
      "execution_count": 13,
      "outputs": [
        {
          "output_type": "stream",
          "name": "stdout",
          "text": [
            "Data written successfully!\n"
          ]
        }
      ]
    },
    {
      "cell_type": "code",
      "source": [
        "file=open(\"example.txt\",\"r\")\n",
        "content=file.read()\n",
        "print(\"file content:\\n\",content)\n",
        "file.close()"
      ],
      "metadata": {
        "colab": {
          "base_uri": "https://localhost:8080/"
        },
        "id": "b6zrKs1Z866v",
        "outputId": "af707dad-336f-4b57-d654-cb90a074a50c"
      },
      "execution_count": 14,
      "outputs": [
        {
          "output_type": "stream",
          "name": "stdout",
          "text": [
            "file content:\n",
            " hello,B.Tech students!\n",
            "this is file handling in python.\n",
            "SR University\n",
            "Harika\n",
            "\n"
          ]
        }
      ]
    },
    {
      "cell_type": "code",
      "source": [
        "file = open(\"example.txt\",\"r\")\n",
        "line1=file.readline()\n",
        "line2=file.readline()\n",
        "line3=file.readline()\n",
        "print(\"First Line :\",line1)\n",
        "print(\"Second line : \",line2)\n",
        "print(\"third line : \",line3)\n",
        "file.close()"
      ],
      "metadata": {
        "colab": {
          "base_uri": "https://localhost:8080/"
        },
        "id": "5KKm2NS89C3v",
        "outputId": "a313d96b-63c7-4384-9adf-e36653892d19"
      },
      "execution_count": 15,
      "outputs": [
        {
          "output_type": "stream",
          "name": "stdout",
          "text": [
            "First Line : hello,B.Tech students!\n",
            "\n",
            "Second line :  this is file handling in python.\n",
            "\n",
            "third line :  SR University\n",
            "\n"
          ]
        }
      ]
    },
    {
      "cell_type": "code",
      "source": [
        "file = open(\"example.txt\",\"r\")\n",
        "lines = file.readlines()\n",
        "print(\"List of lines : \",lines)\n",
        "file.close()"
      ],
      "metadata": {
        "colab": {
          "base_uri": "https://localhost:8080/"
        },
        "id": "bDiL_4sy-uvk",
        "outputId": "d8fdb991-c77b-47d7-c63a-806988144913"
      },
      "execution_count": 16,
      "outputs": [
        {
          "output_type": "stream",
          "name": "stdout",
          "text": [
            "List of lines :  ['hello,B.Tech students!\\n', 'this is file handling in python.\\n', 'SR University\\n', 'Harika\\n']\n"
          ]
        }
      ]
    },
    {
      "cell_type": "code",
      "source": [
        "file = open(\"example.txt\",\"a\")\n",
        "file.write(\"Appending new data...\\n\")\n",
        "file.close()"
      ],
      "metadata": {
        "id": "aJNTiPim_EXv"
      },
      "execution_count": 17,
      "outputs": []
    },
    {
      "cell_type": "code",
      "source": [
        "with open(\"example.txt\",\"r\") as file:\n",
        "    content=file.read()\n",
        "    print(content)"
      ],
      "metadata": {
        "colab": {
          "base_uri": "https://localhost:8080/"
        },
        "id": "qcyV-h1P_m1T",
        "outputId": "b5cceaa0-613b-42d7-bfb1-58ecd65c1772"
      },
      "execution_count": 18,
      "outputs": [
        {
          "output_type": "stream",
          "name": "stdout",
          "text": [
            "hello,B.Tech students!\n",
            "this is file handling in python.\n",
            "SR University\n",
            "Harika\n",
            "Appending new data...\n",
            "\n"
          ]
        }
      ]
    },
    {
      "cell_type": "code",
      "source": [
        "import csv\n",
        "with open(\"data.csv\",\"w\",newline='')as fp:\n",
        "  wr=csv.writer(fp)\n",
        "  wr.writerows([[\"Name\",\"Age\",\"Cources\"],[\"aaa\",21,\"CSE\"],[\"bbb\",20,\"AIML\"]])\n",
        "with open(\"data.csv\",\"r\") as file:\n",
        "  re=csv.reader(file)\n",
        "  for row in re:\n",
        "    print(row)"
      ],
      "metadata": {
        "colab": {
          "base_uri": "https://localhost:8080/"
        },
        "id": "7piYZEF9CVKE",
        "outputId": "20ac4fa5-19ca-49d9-81d2-737b301d0825"
      },
      "execution_count": 21,
      "outputs": [
        {
          "output_type": "stream",
          "name": "stdout",
          "text": [
            "['Name', 'Age', 'Cources']\n",
            "['aaa', '21', 'CSE']\n",
            "['bbb', '20', 'AIML']\n"
          ]
        }
      ]
    }
  ]
}