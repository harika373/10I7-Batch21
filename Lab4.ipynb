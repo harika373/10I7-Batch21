{
  "nbformat": 4,
  "nbformat_minor": 0,
  "metadata": {
    "colab": {
      "provenance": [],
      "authorship_tag": "ABX9TyO0A+3OgIbOc+pg4dn2491z",
      "include_colab_link": true
    },
    "kernelspec": {
      "name": "python3",
      "display_name": "Python 3"
    },
    "language_info": {
      "name": "python"
    }
  },
  "cells": [
    {
      "cell_type": "markdown",
      "metadata": {
        "id": "view-in-github",
        "colab_type": "text"
      },
      "source": [
        "<a href=\"https://colab.research.google.com/github/harika373/10I7-Batch21/blob/main/Lab4.ipynb\" target=\"_parent\"><img src=\"https://colab.research.google.com/assets/colab-badge.svg\" alt=\"Open In Colab\"/></a>"
      ]
    },
    {
      "cell_type": "code",
      "execution_count": 1,
      "metadata": {
        "colab": {
          "base_uri": "https://localhost:8080/"
        },
        "id": "ovZc4Vb6lQM2",
        "outputId": "27e41979-30cd-48ac-c204-be1c9e8b0de1"
      },
      "outputs": [
        {
          "output_type": "stream",
          "name": "stdout",
          "text": [
            "Original Data:\n",
            "  Location  PM2.5   PM10   NO2   SO2        Date\n",
            "0    CityA  120.0   80.0  70.0  20.0  2025-09-01\n",
            "1    CityB  160.0   90.0  85.0  25.0  2025-09-02\n",
            "2    CityC    NaN  100.0  95.0  30.0  2025-09-03\n",
            "3    CityA  180.0    NaN   NaN  22.0  2025-09-04\n",
            "4    CityB  200.0  110.0  60.0   NaN  2025-09-05\n",
            "\n",
            "Data After Forward Fill:\n",
            "  Location  PM2.5   PM10   NO2   SO2        Date\n",
            "0    CityA  120.0   80.0  70.0  20.0  2025-09-01\n",
            "1    CityB  160.0   90.0  85.0  25.0  2025-09-02\n",
            "2    CityC  160.0  100.0  95.0  30.0  2025-09-03\n",
            "3    CityA  180.0  100.0  95.0  22.0  2025-09-04\n",
            "4    CityB  200.0  110.0  60.0  22.0  2025-09-05\n",
            "\n",
            "Polluted Days (PM2.5 > 150 and NO2 > 80):\n",
            "  Location  PM2.5   PM10   NO2   SO2        Date\n",
            "1    CityB  160.0   90.0  85.0  25.0  2025-09-02\n",
            "2    CityC  160.0  100.0  95.0  30.0  2025-09-03\n",
            "3    CityA  180.0  100.0  95.0  22.0  2025-09-04\n"
          ]
        },
        {
          "output_type": "stream",
          "name": "stderr",
          "text": [
            "/tmp/ipython-input-621427491.py:40: FutureWarning: DataFrame.fillna with 'method' is deprecated and will raise in a future version. Use obj.ffill() or obj.bfill() instead.\n",
            "  df = df.fillna(method=\"ffill\")\n"
          ]
        }
      ],
      "source": [
        "'''Air Quality Monitoring Data\n",
        "Objective:\n",
        "Clean air quality data and extract polluted day records.\n",
        "Requirements:\n",
        "• Python\n",
        "• pandas library\n",
        "• air_quality.csv with: Location, PM2.5, PM10, NO2, SO2, Date\n",
        "Deliverables:\n",
        "• Fill missing pollutant values using forward fill\n",
        "Filter and display records with PM2.5 > 150 and NO2 > 80\n",
        "Expected Time\n",
        "to Complete: 2\n",
        "hours'''\n",
        "import pandas as pd\n",
        "\n",
        "# Sample dataset creation (if you don’t already have air_quality.csv)\n",
        "data = {\n",
        "    \"Location\": [\"CityA\", \"CityB\", \"CityC\", \"CityA\", \"CityB\"],\n",
        "    \"PM2.5\": [120, 160, None, 180, 200],\n",
        "    \"PM10\": [80, 90, 100, None, 110],\n",
        "    \"NO2\": [70, 85, 95, None, 60],\n",
        "    \"SO2\": [20, 25, 30, 22, None],\n",
        "    \"Date\": [\"2025-09-01\", \"2025-09-02\", \"2025-09-03\", \"2025-09-04\", \"2025-09-05\"]\n",
        "}\n",
        "\n",
        "df = pd.DataFrame(data)\n",
        "\n",
        "# Save CSV (optional for re-use)\n",
        "df.to_csv(\"air_quality.csv\", index=False)\n",
        "\n",
        "# ------------------ Processing ------------------\n",
        "\n",
        "# Load dataset\n",
        "df = pd.read_csv(\"air_quality.csv\")\n",
        "\n",
        "print(\"Original Data:\")\n",
        "print(df)\n",
        "\n",
        "# Fill missing values using forward fill\n",
        "df = df.fillna(method=\"ffill\")\n",
        "\n",
        "print(\"\\nData After Forward Fill:\")\n",
        "print(df)\n",
        "\n",
        "# Filter polluted days: PM2.5 > 150 AND NO2 > 80\n",
        "polluted_days = df[(df[\"PM2.5\"] > 150) & (df[\"NO2\"] > 80)]\n",
        "\n",
        "print(\"\\nPolluted Days (PM2.5 > 150 and NO2 > 80):\")\n",
        "print(polluted_days)\n"
      ]
    }
  ]
}