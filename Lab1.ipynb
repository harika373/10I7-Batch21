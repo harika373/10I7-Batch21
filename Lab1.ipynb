{
  "nbformat": 4,
  "nbformat_minor": 0,
  "metadata": {
    "colab": {
      "provenance": [],
      "authorship_tag": "ABX9TyMHtGOu4L5Etj44DLWIOCCO",
      "include_colab_link": true
    },
    "kernelspec": {
      "name": "python3",
      "display_name": "Python 3"
    },
    "language_info": {
      "name": "python"
    }
  },
  "cells": [
    {
      "cell_type": "markdown",
      "metadata": {
        "id": "view-in-github",
        "colab_type": "text"
      },
      "source": [
        "<a href=\"https://colab.research.google.com/github/harika373/10I7-Batch21/blob/main/Lab1.ipynb\" target=\"_parent\"><img src=\"https://colab.research.google.com/assets/colab-badge.svg\" alt=\"Open In Colab\"/></a>"
      ]
    },
    {
      "cell_type": "code",
      "execution_count": 2,
      "metadata": {
        "colab": {
          "base_uri": "https://localhost:8080/"
        },
        "id": "RejdCZT7EzH6",
        "outputId": "491d703b-b0bc-4530-aef4-c065ac1017b6"
      },
      "outputs": [
        {
          "name": "stdout",
          "output_type": "stream",
          "text": [
            "The Factioral 6 is 720\n",
            "enter the number5\n"
          ]
        }
      ],
      "source": [
        "def Factioral(number):\n",
        "  fact=1\n",
        "  for i in range(1,number+1):\n",
        "    fact=fact*i\n",
        "print(\"The Factioral\",number,\"is\",fact)\n",
        "\n",
        "number=int(input(\"enter the number\"))\n",
        "Factioral(number)\n",
        "\n"
      ]
    }
  ]
}