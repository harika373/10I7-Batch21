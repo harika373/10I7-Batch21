{
  "nbformat": 4,
  "nbformat_minor": 0,
  "metadata": {
    "colab": {
      "provenance": [],
      "authorship_tag": "ABX9TyPZ6gRCGCtR+ZE3a4DzXsRf",
      "include_colab_link": true
    },
    "kernelspec": {
      "name": "python3",
      "display_name": "Python 3"
    },
    "language_info": {
      "name": "python"
    }
  },
  "cells": [
    {
      "cell_type": "markdown",
      "metadata": {
        "id": "view-in-github",
        "colab_type": "text"
      },
      "source": [
        "<a href=\"https://colab.research.google.com/github/harika373/10I7-Batch21/blob/main/Lab3.ipynb\" target=\"_parent\"><img src=\"https://colab.research.google.com/assets/colab-badge.svg\" alt=\"Open In Colab\"/></a>"
      ]
    },
    {
      "cell_type": "code",
      "execution_count": 9,
      "metadata": {
        "id": "WX2RWPjzY8Xz"
      },
      "outputs": [],
      "source": [
        "#1st Assessment"
      ]
    },
    {
      "cell_type": "code",
      "source": [
        "import numpy as np"
      ],
      "metadata": {
        "id": "YrU9XG1GaUt9"
      },
      "execution_count": 7,
      "outputs": []
    },
    {
      "cell_type": "code",
      "source": [
        "# Generate a 2D array of shape (4x4) with random test scores (between 40 and 100)\n",
        "scores = np.random.randint(40, 101, size=(4, 4))\n",
        "print(\"Test Scores (4x4 matrix):\\n\", scores)\n"
      ],
      "metadata": {
        "colab": {
          "base_uri": "https://localhost:8080/"
        },
        "id": "nxZw6iBKZ2ra",
        "outputId": "c881689b-e11f-4431-92f7-9724a73320c4"
      },
      "execution_count": 2,
      "outputs": [
        {
          "output_type": "stream",
          "name": "stdout",
          "text": [
            "Test Scores (4x4 matrix):\n",
            " [[88 97 59 61]\n",
            " [49 67 63 88]\n",
            " [96 57 45 61]\n",
            " [67 67 77 93]]\n"
          ]
        }
      ]
    },
    {
      "cell_type": "code",
      "source": [
        "# Row-wise and Column-wise means\n",
        "row_means = np.mean(scores, axis=1)\n",
        "col_means = np.mean(scores, axis=0)\n",
        "print(\"\\nRow-wise Means:\", row_means)\n",
        "print(\"Column-wise Means:\", col_means)\n"
      ],
      "metadata": {
        "colab": {
          "base_uri": "https://localhost:8080/"
        },
        "id": "6R_HoMnNZ7S0",
        "outputId": "050b0041-3514-4ad9-937f-f74fff2826f8"
      },
      "execution_count": 3,
      "outputs": [
        {
          "output_type": "stream",
          "name": "stdout",
          "text": [
            "\n",
            "Row-wise Means: [76.25 66.75 64.75 76.  ]\n",
            "Column-wise Means: [75.   72.   61.   75.75]\n"
          ]
        }
      ]
    },
    {
      "cell_type": "code",
      "source": [
        "# Standard Deviation and Variance\n",
        "std_dev = np.std(scores)\n",
        "variance = np.var(scores)\n",
        "print(\"\\nStandard Deviation:\", std_dev)\n",
        "print(\"Variance:\", variance)"
      ],
      "metadata": {
        "colab": {
          "base_uri": "https://localhost:8080/"
        },
        "id": "sEDtrBP-Z_7e",
        "outputId": "2336a91e-d78f-467f-fbfe-07b4d4ef0e10"
      },
      "execution_count": 4,
      "outputs": [
        {
          "output_type": "stream",
          "name": "stdout",
          "text": [
            "\n",
            "Standard Deviation: 16.222934190521762\n",
            "Variance: 263.18359375\n"
          ]
        }
      ]
    },
    {
      "cell_type": "code",
      "source": [
        "# Global Max, Min and their Indices\n",
        "global_max = np.max(scores)\n",
        "global_min = np.min(scores)\n",
        "max_index = np.unravel_index(np.argmax(scores), scores.shape)\n",
        "min_index = np.unravel_index(np.argmin(scores), scores.shape)\n",
        "\n",
        "print(\"\\nGlobal Maximum:\", global_max, \"at index\", max_index)\n",
        "print(\"Global Minimum:\", global_min, \"at index\", min_index)\n"
      ],
      "metadata": {
        "colab": {
          "base_uri": "https://localhost:8080/"
        },
        "id": "w9oNf1TiaDV4",
        "outputId": "5e7c68b0-328b-4929-f7a3-5f3683414f3b"
      },
      "execution_count": 5,
      "outputs": [
        {
          "output_type": "stream",
          "name": "stdout",
          "text": [
            "\n",
            "Global Maximum: 97 at index (np.int64(0), np.int64(1))\n",
            "Global Minimum: 45 at index (np.int64(2), np.int64(2))\n"
          ]
        }
      ]
    },
    {
      "cell_type": "code",
      "source": [
        "# Median values (row & column-wise)\n",
        "row_medians = np.median(scores, axis=1)\n",
        "col_medians = np.median(scores, axis=0)\n",
        "print(\"\\nRow-wise Medians:\", row_medians)\n",
        "print(\"Column-wise Medians:\", col_medians)"
      ],
      "metadata": {
        "colab": {
          "base_uri": "https://localhost:8080/"
        },
        "id": "fhZ1xcf7aGWt",
        "outputId": "f48e0f4f-de80-46ba-a82f-7578204b5edb"
      },
      "execution_count": 6,
      "outputs": [
        {
          "output_type": "stream",
          "name": "stdout",
          "text": [
            "\n",
            "Row-wise Medians: [74.5 65.  59.  72. ]\n",
            "Column-wise Medians: [77.5 67.  61.  74.5]\n"
          ]
        }
      ]
    },
    {
      "cell_type": "code",
      "source": [
        "# 2nd Assignment"
      ],
      "metadata": {
        "id": "4imJV2zKalMG"
      },
      "execution_count": 10,
      "outputs": []
    },
    {
      "cell_type": "code",
      "source": [
        "import numpy as np"
      ],
      "metadata": {
        "id": "AANqEwQ7arbs"
      },
      "execution_count": 11,
      "outputs": []
    },
    {
      "cell_type": "code",
      "source": [
        "# Create a 3x3x3 RGB image with pixel values (0–255)\n",
        "image = np.random.randint(0, 256, size=(3, 3, 3), dtype=np.uint8)\n",
        "print(\"Original Image (3x3x3 RGB matrix):\\n\", image)"
      ],
      "metadata": {
        "colab": {
          "base_uri": "https://localhost:8080/"
        },
        "id": "hGcmgP0ga2vx",
        "outputId": "6bcb8b19-eeac-43df-eaf2-fefbf5958e87"
      },
      "execution_count": 12,
      "outputs": [
        {
          "output_type": "stream",
          "name": "stdout",
          "text": [
            "Original Image (3x3x3 RGB matrix):\n",
            " [[[197 153 164]\n",
            "  [ 30 133 153]\n",
            "  [201 249  22]]\n",
            "\n",
            " [[ 60 255 238]\n",
            "  [204  60  99]\n",
            "  [200 255 122]]\n",
            "\n",
            " [[ 30  78 186]\n",
            "  [105 193 228]\n",
            "  [ 71  79 193]]]\n"
          ]
        }
      ]
    },
    {
      "cell_type": "code",
      "source": [
        "# Extract Red, Green, Blue channels using slicing\n",
        "red_channel = image[:, :, 0]\n",
        "green_channel = image[:, :, 1]\n",
        "blue_channel = image[:, :, 2]\n",
        "\n",
        "print(\"\\nRed Channel:\\n\", red_channel)\n",
        "print(\"\\nGreen Channel:\\n\", green_channel)\n",
        "print(\"\\nBlue Channel:\\n\", blue_channel)\n"
      ],
      "metadata": {
        "colab": {
          "base_uri": "https://localhost:8080/"
        },
        "id": "7IvJ61kqbAvL",
        "outputId": "5bc41b82-a6c5-4728-c34b-9eb090e200f5"
      },
      "execution_count": 13,
      "outputs": [
        {
          "output_type": "stream",
          "name": "stdout",
          "text": [
            "\n",
            "Red Channel:\n",
            " [[197  30 201]\n",
            " [ 60 204 200]\n",
            " [ 30 105  71]]\n",
            "\n",
            "Green Channel:\n",
            " [[153 133 249]\n",
            " [255  60 255]\n",
            " [ 78 193  79]]\n",
            "\n",
            "Blue Channel:\n",
            " [[164 153  22]\n",
            " [238  99 122]\n",
            " [186 228 193]]\n"
          ]
        }
      ]
    },
    {
      "cell_type": "code",
      "source": [
        "# Compute average intensity per channel\n",
        "avg_red = np.mean(red_channel)\n",
        "avg_green = np.mean(green_channel)\n",
        "avg_blue = np.mean(blue_channel)\n",
        "\n",
        "print(\"\\nAverage Intensities -> Red:\", avg_red,\n",
        "      \"Green:\", avg_green,\n",
        "      \"Blue:\", avg_blue)\n"
      ],
      "metadata": {
        "colab": {
          "base_uri": "https://localhost:8080/"
        },
        "id": "RXbdPGLCbGIz",
        "outputId": "4c38a07f-4423-4071-88cb-d1aecbb9cc2e"
      },
      "execution_count": 15,
      "outputs": [
        {
          "output_type": "stream",
          "name": "stdout",
          "text": [
            "\n",
            "Average Intensities -> Red: 122.0 Green: 161.66666666666666 Blue: 156.11111111111111\n"
          ]
        }
      ]
    },
    {
      "cell_type": "code",
      "source": [
        "# Brighten the image by adding a scalar (clip at 255)\n",
        "brightened_image = np.clip(image + 50, 0, 255)\n",
        "print(\"\\nBrightened Image:\\n\", brightened_image)"
      ],
      "metadata": {
        "colab": {
          "base_uri": "https://localhost:8080/"
        },
        "id": "7ZykeQicbJx4",
        "outputId": "b479cd15-53e3-48c1-a64e-17fab0533d18"
      },
      "execution_count": 16,
      "outputs": [
        {
          "output_type": "stream",
          "name": "stdout",
          "text": [
            "\n",
            "Brightened Image:\n",
            " [[[247 203 214]\n",
            "  [ 80 183 203]\n",
            "  [251  43  72]]\n",
            "\n",
            " [[110  49  32]\n",
            "  [254 110 149]\n",
            "  [250  49 172]]\n",
            "\n",
            " [[ 80 128 236]\n",
            "  [155 243  22]\n",
            "  [121 129 243]]]\n"
          ]
        }
      ]
    },
    {
      "cell_type": "code",
      "source": [
        "# Compare before and after for brightness change\n",
        "print(\"\\nBefore Brightness Change (Pixel [0,0]):\", image[0, 0])\n",
        "print(\"After Brightness Change (Pixel [0,0]):\", brightened_image[0, 0])"
      ],
      "metadata": {
        "colab": {
          "base_uri": "https://localhost:8080/"
        },
        "id": "Q_MkNMy_bSar",
        "outputId": "12f3d1ff-9323-41af-df22-7df9f7f26835"
      },
      "execution_count": 17,
      "outputs": [
        {
          "output_type": "stream",
          "name": "stdout",
          "text": [
            "\n",
            "Before Brightness Change (Pixel [0,0]): [197 153 164]\n",
            "After Brightness Change (Pixel [0,0]): [247 203 214]\n"
          ]
        }
      ]
    }
  ]
}