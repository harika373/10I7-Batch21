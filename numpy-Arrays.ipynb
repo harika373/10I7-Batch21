{
  "nbformat": 4,
  "nbformat_minor": 0,
  "metadata": {
    "colab": {
      "provenance": [],
      "authorship_tag": "ABX9TyMcqONEDfL+Y3zE63T2xblG",
      "include_colab_link": true
    },
    "kernelspec": {
      "name": "python3",
      "display_name": "Python 3"
    },
    "language_info": {
      "name": "python"
    }
  },
  "cells": [
    {
      "cell_type": "markdown",
      "metadata": {
        "id": "view-in-github",
        "colab_type": "text"
      },
      "source": [
        "<a href=\"https://colab.research.google.com/github/harika373/10I7-Batch21/blob/main/numpy-Arrays.ipynb\" target=\"_parent\"><img src=\"https://colab.research.google.com/assets/colab-badge.svg\" alt=\"Open In Colab\"/></a>"
      ]
    },
    {
      "cell_type": "code",
      "execution_count": 6,
      "metadata": {
        "colab": {
          "base_uri": "https://localhost:8080/"
        },
        "id": "jSQMv9klEkFC",
        "outputId": "2edf8bd9-598e-49d7-a8da-c4b0d3198450"
      },
      "outputs": [
        {
          "output_type": "stream",
          "name": "stdout",
          "text": [
            "1D Array: [1 2 3 4]\n"
          ]
        }
      ],
      "source": [
        "import numpy as np\n",
        "#1D Array\n",
        "arr=np.array([1,2,3,4])\n",
        "print(\"1D Array:\",arr)"
      ]
    },
    {
      "cell_type": "code",
      "source": [
        "#2D Array\n",
        "arr=np.array([[1,2,3],[4,5,6]])\n",
        "print(\"2D Array:\\n\",arr)"
      ],
      "metadata": {
        "colab": {
          "base_uri": "https://localhost:8080/"
        },
        "id": "uG8zsI_aFMq4",
        "outputId": "41fd80c6-05d7-48db-aef3-4142766f7b2a"
      },
      "execution_count": 7,
      "outputs": [
        {
          "output_type": "stream",
          "name": "stdout",
          "text": [
            "2D Array:\n",
            " [[1 2 3]\n",
            " [4 5 6]]\n"
          ]
        }
      ]
    },
    {
      "cell_type": "code",
      "source": [
        "#Zeros Array\n",
        "arr=np.zeros((3,3))\n",
        "print(\"Zeros Array:\\n\",arr)"
      ],
      "metadata": {
        "colab": {
          "base_uri": "https://localhost:8080/"
        },
        "id": "KteCJLSsFT5p",
        "outputId": "2c70ed7b-cdfb-4578-89e1-cc87ff63e8c9"
      },
      "execution_count": 8,
      "outputs": [
        {
          "output_type": "stream",
          "name": "stdout",
          "text": [
            "Zeros Array:\n",
            " [[0. 0. 0.]\n",
            " [0. 0. 0.]\n",
            " [0. 0. 0.]]\n"
          ]
        }
      ]
    },
    {
      "cell_type": "code",
      "source": [
        "#one Array\n",
        "ones_arr=np.ones((2,4))\n",
        "print(\"Ones Array:\\n\",ones_arr)"
      ],
      "metadata": {
        "colab": {
          "base_uri": "https://localhost:8080/"
        },
        "id": "yHFCfNiJFeJd",
        "outputId": "cb7fa1d2-c8fc-4f2f-9c70-25a29f087a02"
      },
      "execution_count": 9,
      "outputs": [
        {
          "output_type": "stream",
          "name": "stdout",
          "text": [
            "Ones Array:\n",
            " [[1. 1. 1. 1.]\n",
            " [1. 1. 1. 1.]]\n"
          ]
        }
      ]
    },
    {
      "cell_type": "code",
      "source": [
        "#range of numbers\n",
        "range_arr=np.arange(0,10,2)\n",
        "print(\"Range Array:\\n\",range_arr)"
      ],
      "metadata": {
        "colab": {
          "base_uri": "https://localhost:8080/"
        },
        "id": "kL-W52k1Frjj",
        "outputId": "60428848-ae8e-4d9c-e8fc-b6561fd704b3"
      },
      "execution_count": 10,
      "outputs": [
        {
          "output_type": "stream",
          "name": "stdout",
          "text": [
            "Range Array:\n",
            " [0 2 4 6 8]\n"
          ]
        }
      ]
    },
    {
      "cell_type": "code",
      "source": [
        "#Random Array\n",
        "rand_arr=np.random.rand(3,3)\n",
        "print(\"Random Array:\\n\",rand_arr)"
      ],
      "metadata": {
        "colab": {
          "base_uri": "https://localhost:8080/"
        },
        "id": "F-xDGTmoFzZE",
        "outputId": "687ddb80-62f6-471a-e9dc-7c68f8d24ef7"
      },
      "execution_count": 11,
      "outputs": [
        {
          "output_type": "stream",
          "name": "stdout",
          "text": [
            "Random Array:\n",
            " [[0.97826997 0.68192841 0.13568497]\n",
            " [0.05696838 0.83393851 0.13166907]\n",
            " [0.22753483 0.02270937 0.18266475]]\n"
          ]
        }
      ]
    },
    {
      "cell_type": "code",
      "source": [
        "arr=np.array([[1,2,3],[4,5,6]])\n",
        "print(\"Original Array:\\n\",arr)\n",
        "print(\"shape:\",arr.shape)\n",
        "print(\"Data Types: \",arr.dtype)\n",
        "print(\"Size:\",arr.size)\n",
        "print(\"item Size:\",arr.itemsize)\n"
      ],
      "metadata": {
        "colab": {
          "base_uri": "https://localhost:8080/"
        },
        "id": "9IRcZ6WqG7wY",
        "outputId": "ccaf5c7a-e296-415a-800c-5e74ad3eebd3"
      },
      "execution_count": 16,
      "outputs": [
        {
          "output_type": "stream",
          "name": "stdout",
          "text": [
            "Original Array:\n",
            " [[1 2 3]\n",
            " [4 5 6]]\n",
            "shape: (2, 3)\n",
            "Data Types:  int64\n",
            "Size: 6\n",
            "item Size: 8\n"
          ]
        }
      ]
    },
    {
      "cell_type": "code",
      "source": [
        "arr=np.array([10,20,30,40,50])\n",
        "print(\"first element\",arr[0])\n",
        "print(\"last element\",arr[-1])\n",
        "print(\"Slice[1:4]:\",arr[1:4])\n",
        "print(\"Every Second element\",arr[::2])"
      ],
      "metadata": {
        "colab": {
          "base_uri": "https://localhost:8080/"
        },
        "id": "m-k6tazUH9nB",
        "outputId": "9dff8c18-2e2f-45f6-ff67-361d5a3496ee"
      },
      "execution_count": 17,
      "outputs": [
        {
          "output_type": "stream",
          "name": "stdout",
          "text": [
            "first element 10\n",
            "last element 50\n",
            "Slice[1:4]: [20 30 40]\n",
            "Every Second element [10 30 50]\n"
          ]
        }
      ]
    },
    {
      "cell_type": "code",
      "source": [
        "arr=np.array([[1,2,3],[4,5,6]])\n",
        "print(\"Element at (0,1):\",arr[0,1])\n",
        "print(\"Second row\",arr[1,:])\n",
        "print(\"Second Coloumn:\",arr[:,1])"
      ],
      "metadata": {
        "colab": {
          "base_uri": "https://localhost:8080/"
        },
        "id": "bRbBA1NuLLZY",
        "outputId": "d3f873c9-bd6b-4b18-c985-3b02f22ad4ba"
      },
      "execution_count": 20,
      "outputs": [
        {
          "output_type": "stream",
          "name": "stdout",
          "text": [
            "Element at (0,1): 2\n",
            "Second row [4 5 6]\n",
            "Second Coloumn: [2 5]\n"
          ]
        }
      ]
    },
    {
      "cell_type": "code",
      "source": [
        "#Array operations\n",
        "a=np.array([1,2,3])\n",
        "b=np.array([4,5,6])\n",
        "print(\"Addition:\",a+b)\n",
        "print(\"Subtraction:\",a-b)\n",
        "print(\"Multiplication:\",a*b)\n",
        "print(\"Division:\",a/b)\n",
        "print(\"power:\",a**2)"
      ],
      "metadata": {
        "colab": {
          "base_uri": "https://localhost:8080/"
        },
        "id": "IXMuP_qMPsTq",
        "outputId": "2c8702b9-ff9b-42b6-e609-d8a4c0455bf7"
      },
      "execution_count": 21,
      "outputs": [
        {
          "output_type": "stream",
          "name": "stdout",
          "text": [
            "Addition: [5 7 9]\n",
            "Subtraction: [-3 -3 -3]\n",
            "Multiplication: [ 4 10 18]\n",
            "Division: [0.25 0.4  0.5 ]\n",
            "power: [1 4 9]\n"
          ]
        }
      ]
    },
    {
      "cell_type": "code",
      "source": [
        "#Mathemtcal Functions\n",
        "arr=np.array([1,2,3,4,5,6])\n",
        "print(\"Sum:\",np.sum(arr))\n",
        "print(\"Mean:\",np.mean(arr))\n",
        "print(\"Max:\",np.max(arr))\n",
        "print(\"Min:\",np.min(arr))\n",
        "print(\"Sin:\",np.sin(arr))\n",
        "print(\"Cos:\",np.cos(arr))\n",
        "print(\"Tan:\",np.tan(arr))\n",
        "print(\"Log:\",np.log([1,np.e,np.e**2]))\n",
        "print(\"Exp:\",np.exp([1,2]))\n",
        "print(\"sqrt:\",np.sqrt([1,4,9]))\n",
        "print(\"sort:\",np.sort(arr))\n",
        "print(\"argsort:\",np.argsort(arr))\n",
        "print(\"argmax:\",np.argmax(arr))\n",
        "print(\"argmin:\",np.argmin(arr))\n",
        "print(\"std:\",np.std(arr))\n",
        "print(\"var:\",np.var(arr))\n",
        "print(\"cumsum:\",np.cumsum(arr))\n",
        "print(\"cumprod:\",np.cumprod(arr))\n",
        "print(\"unique:\",np.unique(arr))"
      ],
      "metadata": {
        "colab": {
          "base_uri": "https://localhost:8080/"
        },
        "id": "3eYvqRmTP_NC",
        "outputId": "6a2eae0e-da3b-4ef1-9af7-e466f28dcbbe"
      },
      "execution_count": 24,
      "outputs": [
        {
          "output_type": "stream",
          "name": "stdout",
          "text": [
            "Sum: 21\n",
            "Mean: 3.5\n",
            "Max: 6\n",
            "Min: 1\n",
            "Sin: [ 0.84147098  0.90929743  0.14112001 -0.7568025  -0.95892427 -0.2794155 ]\n",
            "Cos: [ 0.54030231 -0.41614684 -0.9899925  -0.65364362  0.28366219  0.96017029]\n",
            "Tan: [ 1.55740772 -2.18503986 -0.14254654  1.15782128 -3.38051501 -0.29100619]\n",
            "Log: [0. 1. 2.]\n",
            "Exp: [2.71828183 7.3890561 ]\n",
            "sqrt: [1. 2. 3.]\n",
            "sort: [1 2 3 4 5 6]\n",
            "argsort: [0 1 2 3 4 5]\n",
            "argmax: 5\n",
            "argmin: 0\n",
            "std: 1.707825127659933\n",
            "var: 2.9166666666666665\n",
            "cumsum: [ 1  3  6 10 15 21]\n",
            "cumprod: [  1   2   6  24 120 720]\n",
            "unique: [1 2 3 4 5 6]\n"
          ]
        }
      ]
    },
    {
      "cell_type": "code",
      "source": [
        "arr=np.array([[1,2,3],[4,5,6]])\n",
        "print(\"Original Array:\\n\",arr)\n",
        "print(\"Reshape Array:\\n\",arr.reshape(3,2))\n",
        "print(\"Transpose Array:\\n\",arr.T)\n",
        "print(\"Flatten Array:\\n\",arr.flatten())\n",
        "print(\"sum:\",np.sum(arr))\n",
        "print(\"mean:\",np.mean(arr))\n",
        "print(\"min:\",np.min(arr))\n",
        "print(\"max:\",np.max(arr))\n",
        "print(\"std:\",np.std(arr))\n",
        "print(\"var:\",np.var(arr))\n",
        "print(\"cumsum:\",np.cumsum(arr))\n",
        "print(\"sum along axis 0\",np.sum(arr,axis=0))\n",
        "print(\"sum along axis 1\",np.sum(arr,axis=1))\n"
      ],
      "metadata": {
        "colab": {
          "base_uri": "https://localhost:8080/"
        },
        "id": "eOXQ3EZVRHv0",
        "outputId": "c8011aa9-ae67-4bf2-b507-db6a81ff6af3"
      },
      "execution_count": 26,
      "outputs": [
        {
          "output_type": "stream",
          "name": "stdout",
          "text": [
            "Original Array:\n",
            " [[1 2 3]\n",
            " [4 5 6]]\n",
            "Reshape Array:\n",
            " [[1 2]\n",
            " [3 4]\n",
            " [5 6]]\n",
            "Transpose Array:\n",
            " [[1 4]\n",
            " [2 5]\n",
            " [3 6]]\n",
            "Flatten Array:\n",
            " [1 2 3 4 5 6]\n",
            "sum: 21\n",
            "mean: 3.5\n",
            "min: 1\n",
            "max: 6\n",
            "std: 1.707825127659933\n",
            "var: 2.9166666666666665\n",
            "cumsum: [ 1  3  6 10 15 21]\n",
            "sum along axis 0 [5 7 9]\n",
            "sum along axis 1 [ 6 15]\n"
          ]
        }
      ]
    },
    {
      "cell_type": "code",
      "source": [
        "#Brodcasting\n",
        "a=np.array([1,2,3])\n",
        "b=5\n",
        "c=np.array([[4],[5],[6]])\n",
        "d=np.array([7,8,9])\n",
        "print(\"a:\\n\",a)\n",
        "print(\"b:\\n\",b)\n",
        "print(\"a+b:\\n\",a+b)\n",
        "print(\"c:\\n\",c)\n",
        "print(\"d:\\n\",d)\n",
        "print(\"c+d:\\n\",c+d)"
      ],
      "metadata": {
        "colab": {
          "base_uri": "https://localhost:8080/"
        },
        "id": "JkzPlwPCSNRx",
        "outputId": "b1705350-4ca1-441b-e213-10e2ad51bc2c"
      },
      "execution_count": 28,
      "outputs": [
        {
          "output_type": "stream",
          "name": "stdout",
          "text": [
            "a:\n",
            " [1 2 3]\n",
            "b:\n",
            " 5\n",
            "a+b:\n",
            " [6 7 8]\n",
            "c:\n",
            " [[4]\n",
            " [5]\n",
            " [6]]\n",
            "d:\n",
            " [7 8 9]\n",
            "c+d:\n",
            " [[11 12 13]\n",
            " [12 13 14]\n",
            " [13 14 15]]\n"
          ]
        }
      ]
    },
    {
      "cell_type": "code",
      "source": [
        "#matrics operations\n",
        "A=np.array([[1,2],[3,4]])\n",
        "B=np.array([[5,6],[7,8]])\n",
        "print(\"A:\\n\",A)\n",
        "print(\"B:\\n\",B)\n",
        "print(\"A+B:\\n\",A+B)\n",
        "print(\"A-B:\\n\",A-B)\n",
        "print(\"A*B:\\n\",A*B)\n",
        "print(\"A/B:\\n\",A/B)\n",
        "print(\"A.dot(B):\\n\",A.dot(B))\n",
        "print(\"np.dot(A,B):\\n\",np.dot(A,B))\n",
        "print(\"inverse:\\n\",np.linalg.inv(A))\n",
        "print(\"determinant:\\n\",np.linalg.det(A))\n",
        "print(\"rank:\\n\",np.linalg.matrix_rank(A))\n",
        "print(\"trace:\\n\",np.trace(A))\n",
        "print(\"eigenvalues:\\n\",np.linalg.eigvals(A))\n",
        "print(\"eigenvectors:\\n\",np.linalg.eig)\n",
        "print(\"Transpose\\n\",A.T)"
      ],
      "metadata": {
        "colab": {
          "base_uri": "https://localhost:8080/"
        },
        "id": "-KzZwT9aUG0F",
        "outputId": "1e9be88e-dc17-4444-f8fe-388c6ab846b7"
      },
      "execution_count": 30,
      "outputs": [
        {
          "output_type": "stream",
          "name": "stdout",
          "text": [
            "A:\n",
            " [[1 2]\n",
            " [3 4]]\n",
            "B:\n",
            " [[5 6]\n",
            " [7 8]]\n",
            "A+B:\n",
            " [[ 6  8]\n",
            " [10 12]]\n",
            "A-B:\n",
            " [[-4 -4]\n",
            " [-4 -4]]\n",
            "A*B:\n",
            " [[ 5 12]\n",
            " [21 32]]\n",
            "A/B:\n",
            " [[0.2        0.33333333]\n",
            " [0.42857143 0.5       ]]\n",
            "A.dot(B):\n",
            " [[19 22]\n",
            " [43 50]]\n",
            "np.dot(A,B):\n",
            " [[19 22]\n",
            " [43 50]]\n",
            "inverse:\n",
            " [[-2.   1. ]\n",
            " [ 1.5 -0.5]]\n",
            "determinant:\n",
            " -2.0000000000000004\n",
            "rank:\n",
            " 2\n",
            "trace:\n",
            " 5\n",
            "eigenvalues:\n",
            " [-0.37228132  5.37228132]\n",
            "eigenvectors:\n",
            " <function eig at 0x784e66f62520>\n",
            "Transpose\n",
            " [[1 3]\n",
            " [2 4]]\n"
          ]
        }
      ]
    },
    {
      "cell_type": "code",
      "source": [
        "marks = np.array([\n",
        "[85, 90, 88],\n",
        "[78, 81, 85],\n",
        "[92, 89, 95]\n",
        "])\n",
        "print(\"Average marks per student:\", np.mean(marks, axis=1))\n",
        "print(\"Average marks per subject:\", np.mean(marks, axis=0))\n",
        "print(\"Highest marks in each subject:\", np.max(marks, axis=0))\n",
        "print(\"Lowest marks in each subject:\", np.min(marks, axis=0))"
      ],
      "metadata": {
        "colab": {
          "base_uri": "https://localhost:8080/"
        },
        "id": "R5OVPRBuW83Z",
        "outputId": "b762f7fd-2eb5-4bb8-c0fb-d8fbdb8965a2"
      },
      "execution_count": 31,
      "outputs": [
        {
          "output_type": "stream",
          "name": "stdout",
          "text": [
            "Average marks per student: [87.66666667 81.33333333 92.        ]\n",
            "Average marks per subject: [85.         86.66666667 89.33333333]\n",
            "Highest marks in each subject: [92 90 95]\n",
            "Lowest marks in each subject: [78 81 85]\n"
          ]
        }
      ]
    },
    {
      "cell_type": "code",
      "source": [
        "# Generate random marks (between 50 and 100) for 5 students in 4 subjects\n",
        "marks = np.random.randint(50, 101, size=(5, 4))\n",
        "print(\"Marks of students:\\n\", marks)\n",
        "\n",
        "# Average marks per student\n",
        "avg_per_student = np.mean(marks, axis=1)\n",
        "print(\"\\nAverage marks per student:\", avg_per_student)\n",
        "\n",
        "# Average marks per subject\n",
        "avg_per_subject = np.mean(marks, axis=0)\n",
        "print(\"Average marks per subject:\", avg_per_subject)\n",
        "\n",
        "# Student with the highest total marks\n",
        "total_per_student = np.sum(marks, axis=1)\n",
        "top_student = np.argmax(total_per_student) + 1  # +1 for student numbering\n",
        "print(\"Student with highest total marks: Student\", top_student)\n",
        "\n",
        "# Subject with the lowest average score\n",
        "lowest_subject = np.argmin(avg_per_subject) + 1\n",
        "print(\"Subject with lowest average score: Subject\", lowest_subject)\n"
      ],
      "metadata": {
        "colab": {
          "base_uri": "https://localhost:8080/"
        },
        "id": "exJYg1YuYLHU",
        "outputId": "22fe3dd9-a55c-4e49-e4c0-215cd2b88ea0"
      },
      "execution_count": 32,
      "outputs": [
        {
          "output_type": "stream",
          "name": "stdout",
          "text": [
            "Marks of students:\n",
            " [[63 60 53 86]\n",
            " [79 98 81 50]\n",
            " [96 71 83 53]\n",
            " [67 99 70 94]\n",
            " [61 65 78 69]]\n",
            "\n",
            "Average marks per student: [65.5  77.   75.75 82.5  68.25]\n",
            "Average marks per subject: [73.2 78.6 73.  70.4]\n",
            "Student with highest total marks: Student 4\n",
            "Subject with lowest average score: Subject 4\n"
          ]
        }
      ]
    },
    {
      "cell_type": "code",
      "source": [],
      "metadata": {
        "id": "l9-9qfW-Yj8A"
      },
      "execution_count": null,
      "outputs": []
    }
  ]
}