{
  "nbformat": 4,
  "nbformat_minor": 0,
  "metadata": {
    "colab": {
      "provenance": [],
      "authorship_tag": "ABX9TyOJye9PAcbTfjxQS38UsaVX",
      "include_colab_link": true
    },
    "kernelspec": {
      "name": "python3",
      "display_name": "Python 3"
    },
    "language_info": {
      "name": "python"
    }
  },
  "cells": [
    {
      "cell_type": "markdown",
      "metadata": {
        "id": "view-in-github",
        "colab_type": "text"
      },
      "source": [
        "<a href=\"https://colab.research.google.com/github/harika373/10I7-Batch21/blob/main/pandas(data%20Science).ipynb\" target=\"_parent\"><img src=\"https://colab.research.google.com/assets/colab-badge.svg\" alt=\"Open In Colab\"/></a>"
      ]
    },
    {
      "cell_type": "code",
      "execution_count": null,
      "metadata": {
        "id": "EcwNEZm0iLje"
      },
      "outputs": [],
      "source": [
        "import pandas as pd\n",
        "# Creating a Series from a list\n",
        "data = [10, 20, 30, 40, 50]\n",
        "series = pd.Series(data)\n",
        "print(\"Pandas Series:\")\n",
        "print(series)"
      ]
    },
    {
      "cell_type": "code",
      "source": [
        "#Series with Custom Index\n",
        "import pandas as pd\n",
        "data = [10, 20, 30, 40, 50]\n",
        "index_labels = ['a', 'b', 'c', 'd', 'e']\n",
        "series = pd.Series(data,\n",
        "index=index_labels)\n",
        "print(series)"
      ],
      "metadata": {
        "colab": {
          "base_uri": "https://localhost:8080/"
        },
        "id": "aesBFTPOiYOG",
        "outputId": "9f42b0cd-63a9-4ac9-eb73-238ca03f742d"
      },
      "execution_count": 1,
      "outputs": [
        {
          "output_type": "stream",
          "name": "stdout",
          "text": [
            "a    10\n",
            "b    20\n",
            "c    30\n",
            "d    40\n",
            "e    50\n",
            "dtype: int64\n"
          ]
        }
      ]
    },
    {
      "cell_type": "code",
      "source": [
        "#Creating a DataFrame\n",
        "import pandas as pd\n",
        "# Creating a DataFrame from a dictionary\n",
        "data = {\n",
        "'Name': ['Alice', 'Bob', 'Charlie', 'David'],\n",
        "'Age': [25, 30, 35, 40],\n",
        "'City': ['Hyderabad', 'Delhi', 'Chennai', 'Mumbai']\n",
        "}\n",
        "df = pd.DataFrame(data)\n",
        "print(\"Pandas DataFrame:\")\n",
        "print(df)"
      ],
      "metadata": {
        "colab": {
          "base_uri": "https://localhost:8080/"
        },
        "id": "aMY1gHMviejw",
        "outputId": "ee7a3fbc-3c14-4d64-ec81-42e83bb4dafa"
      },
      "execution_count": 2,
      "outputs": [
        {
          "output_type": "stream",
          "name": "stdout",
          "text": [
            "Pandas DataFrame:\n",
            "      Name  Age       City\n",
            "0    Alice   25  Hyderabad\n",
            "1      Bob   30      Delhi\n",
            "2  Charlie   35    Chennai\n",
            "3    David   40     Mumbai\n"
          ]
        }
      ]
    },
    {
      "cell_type": "code",
      "source": [
        "#Basic DataFrame Operations\n",
        "#(a) Accessing Data\n",
        "# Access a single column\n",
        "print(df['Name'])\n",
        "# Access multiple columns\n",
        "print(df[['Name', 'City']])\n",
        "# Access rows using index\n",
        "print(df.iloc[1]) # row at index 1\n",
        "print(df.loc[2]) # row with label 2\n",
        "#(b) Adding a New Column\n",
        "df['Salary'] = [40000, 50000, 60000, 70000]\n",
        "print(df)\n",
        "#(c) Removing a Column\n",
        "df = df.drop('City', axis=1)\n",
        "print(df)\n",
        "#Slide Title2. Pandas for Data Analysis, Series, Data Frames, and Basic Data Manipulation.\n",
        "#(d) Filtering Data\n",
        "# Select rows where Age > 30\n",
        "print(df[df['Age'] > 30])\n",
        "#(e) Basic Statistics\n",
        "print(df['Age'].mean()) # Average age\n",
        "print(df['Age'].max()) # Maximum age\n",
        "print(df['Age'].min()) # Minimum age"
      ],
      "metadata": {
        "colab": {
          "base_uri": "https://localhost:8080/"
        },
        "id": "kfCsLanEijkt",
        "outputId": "dd4ef5cd-84cf-4801-e242-1d6b770b4e22"
      },
      "execution_count": 3,
      "outputs": [
        {
          "output_type": "stream",
          "name": "stdout",
          "text": [
            "0      Alice\n",
            "1        Bob\n",
            "2    Charlie\n",
            "3      David\n",
            "Name: Name, dtype: object\n",
            "      Name       City\n",
            "0    Alice  Hyderabad\n",
            "1      Bob      Delhi\n",
            "2  Charlie    Chennai\n",
            "3    David     Mumbai\n",
            "Name      Bob\n",
            "Age        30\n",
            "City    Delhi\n",
            "Name: 1, dtype: object\n",
            "Name    Charlie\n",
            "Age          35\n",
            "City    Chennai\n",
            "Name: 2, dtype: object\n",
            "      Name  Age       City  Salary\n",
            "0    Alice   25  Hyderabad   40000\n",
            "1      Bob   30      Delhi   50000\n",
            "2  Charlie   35    Chennai   60000\n",
            "3    David   40     Mumbai   70000\n",
            "      Name  Age  Salary\n",
            "0    Alice   25   40000\n",
            "1      Bob   30   50000\n",
            "2  Charlie   35   60000\n",
            "3    David   40   70000\n",
            "      Name  Age  Salary\n",
            "2  Charlie   35   60000\n",
            "3    David   40   70000\n",
            "32.5\n",
            "40\n",
            "25\n"
          ]
        }
      ]
    },
    {
      "cell_type": "code",
      "source": [
        "import pandas as pd\n",
        "# Create a DataFrame with student details\n",
        "student_data = {\n",
        "'Student_ID': [101, 102, 103, 104],\n",
        "'Name': ['Ravi', 'Neha', 'Kiran', 'Sita'],\n",
        "'Marks': [85, 90, 78, 92],\n",
        "'Department': ['CSE', 'ECE', 'MECH', 'CSE']\n",
        "}\n",
        "df = pd.DataFrame(student_data)\n",
        "# Display full DataFrame\n",
        "print(\"Student Data:\")\n",
        "print(df)"
      ],
      "metadata": {
        "colab": {
          "base_uri": "https://localhost:8080/"
        },
        "id": "LUwPFx31ipgq",
        "outputId": "22cd8804-fb36-4e38-f05b-59b495f70bac"
      },
      "execution_count": 4,
      "outputs": [
        {
          "output_type": "stream",
          "name": "stdout",
          "text": [
            "Student Data:\n",
            "   Student_ID   Name  Marks Department\n",
            "0         101   Ravi     85        CSE\n",
            "1         102   Neha     90        ECE\n",
            "2         103  Kiran     78       MECH\n",
            "3         104   Sita     92        CSE\n"
          ]
        }
      ]
    }
  ]
}