{
  "nbformat": 4,
  "nbformat_minor": 0,
  "metadata": {
    "colab": {
      "provenance": [],
      "authorship_tag": "ABX9TyMEWdogYJ164tuE+zxpszyX",
      "include_colab_link": true
    },
    "kernelspec": {
      "name": "python3",
      "display_name": "Python 3"
    },
    "language_info": {
      "name": "python"
    }
  },
  "cells": [
    {
      "cell_type": "markdown",
      "metadata": {
        "id": "view-in-github",
        "colab_type": "text"
      },
      "source": [
        "<a href=\"https://colab.research.google.com/github/harika373/10I7-Batch21/blob/main/lab6.ipynb\" target=\"_parent\"><img src=\"https://colab.research.google.com/assets/colab-badge.svg\" alt=\"Open In Colab\"/></a>"
      ]
    },
    {
      "cell_type": "code",
      "execution_count": 1,
      "metadata": {
        "colab": {
          "base_uri": "https://localhost:8080/"
        },
        "id": "8OK0Cdr7m1so",
        "outputId": "06fe1da3-d85f-4df7-9d65-4446694ddf91"
      },
      "outputs": [
        {
          "output_type": "stream",
          "name": "stdout",
          "text": [
            "📌 Original Dataset:\n",
            "   patient_id  age   disease\n",
            "0           1   25       Flu\n",
            "1           2   34      Cold\n",
            "2           3  120    Cancer\n",
            "3           4   45    Asthma\n",
            "4           5   -5  Diabetes\n",
            "5           6   60       Flu\n",
            "6           7   89      Cold\n",
            "7           8  150       Flu\n",
            "8           9   33    Asthma\n",
            "9          10   72    Cancer\n",
            "\n",
            "⚠️ Invalid Age Records (Outliers):\n",
            "   patient_id  age   disease\n",
            "4           5   -5  Diabetes\n",
            "7           8  150       Flu\n",
            "\n",
            "✅ Cleaned Dataset (Outliers Removed):\n",
            "   patient_id  age disease\n",
            "0           1   25     Flu\n",
            "1           2   34    Cold\n",
            "2           3  120  Cancer\n",
            "3           4   45  Asthma\n",
            "5           6   60     Flu\n",
            "6           7   89    Cold\n",
            "8           9   33  Asthma\n",
            "9          10   72  Cancer\n",
            "\n",
            "📊 Insights:\n",
            "Original dataset size: 10 records\n",
            "Cleaned dataset size: 8 records\n",
            "Outliers removed: 2 records\n"
          ]
        }
      ],
      "source": [
        "'''Clean and Preprocess a Real-World Dataset (e.g., Hospital Dataset) for\n",
        "Analysis.\n",
        "Hospital Dataset – Outlier Detection & Removal\n",
        "• Objective:\n",
        "• Detect and remove unrealistic values (outliers) from\n",
        "hospital dataset.\n",
        "• Requirements:\n",
        "• Create dataset with patient ages.\n",
        "• Identify invalid ages (e.g., > 120 or < 0).\n",
        "• Remove such outliers.\n",
        "• Deliverables:\n",
        "• Python code for outlier detection.\n",
        "• Output showing dataset before/after cleaning.\n",
        "• Discussion on why outlier removal matters'''\n",
        "import pandas as pd\n",
        "\n",
        "# -----------------------------\n",
        "# Step 1: Create Hospital Dataset\n",
        "# -----------------------------\n",
        "data = {\n",
        "    \"patient_id\": range(1, 11),\n",
        "    \"age\": [25, 34, 120, 45, -5, 60, 89, 150, 33, 72],  # includes invalid ages\n",
        "    \"disease\": [\"Flu\", \"Cold\", \"Cancer\", \"Asthma\", \"Diabetes\",\n",
        "                \"Flu\", \"Cold\", \"Flu\", \"Asthma\", \"Cancer\"]\n",
        "}\n",
        "\n",
        "hospital_df = pd.DataFrame(data)\n",
        "\n",
        "print(\"📌 Original Dataset:\")\n",
        "print(hospital_df)\n",
        "\n",
        "# -----------------------------\n",
        "# Step 2: Detect Outliers (Invalid Ages)\n",
        "# -----------------------------\n",
        "invalid_ages = hospital_df[(hospital_df[\"age\"] > 120) | (hospital_df[\"age\"] < 0)]\n",
        "\n",
        "print(\"\\n⚠️ Invalid Age Records (Outliers):\")\n",
        "print(invalid_ages)\n",
        "\n",
        "# -----------------------------\n",
        "# Step 3: Remove Outliers\n",
        "# -----------------------------\n",
        "cleaned_df = hospital_df[(hospital_df[\"age\"] >= 0) & (hospital_df[\"age\"] <= 120)]\n",
        "\n",
        "print(\"\\n✅ Cleaned Dataset (Outliers Removed):\")\n",
        "print(cleaned_df)\n",
        "\n",
        "# -----------------------------\n",
        "# Step 4: Insights\n",
        "# -----------------------------\n",
        "print(\"\\n📊 Insights:\")\n",
        "print(f\"Original dataset size: {len(hospital_df)} records\")\n",
        "print(f\"Cleaned dataset size: {len(cleaned_df)} records\")\n",
        "print(f\"Outliers removed: {len(hospital_df) - len(cleaned_df)} records\")"
      ]
    },
    {
      "cell_type": "code",
      "source": [
        "'''Clean and Preprocess a Real-World Dataset (e.g., Banking Dataset) for\n",
        "Analysis.\n",
        "Banking Dataset – Feature Scaling\n",
        "• Objective:\n",
        "• Normalize customer income data to prepare for machine\n",
        "learning models.\n",
        "• Requirements:\n",
        "• Create dataset with customer incomes.\n",
        "• Apply Min-Max normalization.\n",
        "• Apply Standardization (Z-score).\n",
        "• Deliverables:\n",
        "• Python code for scaling features.\n",
        "• Output showing normalized & standardized values.\n",
        "• Discussion on when to use scaling.\n",
        "Expected Time\n",
        "to Complete: 2\n",
        "hours'''\n",
        "import pandas as pd\n",
        "from sklearn.preprocessing import MinMaxScaler, StandardScaler\n",
        "\n",
        "# -----------------------------\n",
        "# Step 1: Create Banking Dataset\n",
        "# -----------------------------\n",
        "data = {\n",
        "    \"customer_id\": [1, 2, 3, 4, 5, 6],\n",
        "    \"income\": [25000, 48000, 32000, 58000, 150000, 72000]\n",
        "}\n",
        "\n",
        "banking_df = pd.DataFrame(data)\n",
        "\n",
        "print(\"📌 Original Dataset:\")\n",
        "print(banking_df)\n",
        "\n",
        "# -----------------------------\n",
        "# Step 2: Apply Min-Max Normalization\n",
        "# -----------------------------\n",
        "minmax_scaler = MinMaxScaler()\n",
        "banking_df[\"income_minmax\"] = minmax_scaler.fit_transform(banking_df[[\"income\"]])\n",
        "\n",
        "# -----------------------------\n",
        "# Step 3: Apply Standardization (Z-score)\n",
        "# -----------------------------\n",
        "standard_scaler = StandardScaler()\n",
        "banking_df[\"income_zscore\"] = standard_scaler.fit_transform(banking_df[[\"income\"]])\n",
        "\n",
        "print(\"\\n✅ Dataset After Scaling:\")\n",
        "print(banking_df)"
      ],
      "metadata": {
        "colab": {
          "base_uri": "https://localhost:8080/"
        },
        "id": "qBNZ780dm-NC",
        "outputId": "95a97aa9-39fd-463b-c822-8457b98cd54c"
      },
      "execution_count": 2,
      "outputs": [
        {
          "output_type": "stream",
          "name": "stdout",
          "text": [
            "📌 Original Dataset:\n",
            "   customer_id  income\n",
            "0            1   25000\n",
            "1            2   48000\n",
            "2            3   32000\n",
            "3            4   58000\n",
            "4            5  150000\n",
            "5            6   72000\n",
            "\n",
            "✅ Dataset After Scaling:\n",
            "   customer_id  income  income_minmax  income_zscore\n",
            "0            1   25000          0.000      -0.945454\n",
            "1            2   48000          0.184      -0.390251\n",
            "2            3   32000          0.056      -0.776479\n",
            "3            4   58000          0.264      -0.148859\n",
            "4            5  150000          1.000       2.071952\n",
            "5            6   72000          0.376       0.189091\n"
          ]
        }
      ]
    }
  ]
}