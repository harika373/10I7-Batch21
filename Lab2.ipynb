{
  "nbformat": 4,
  "nbformat_minor": 0,
  "metadata": {
    "colab": {
      "provenance": [],
      "authorship_tag": "ABX9TyM1vP1BgxWpb0PJd+bzvj9Q",
      "include_colab_link": true
    },
    "kernelspec": {
      "name": "python3",
      "display_name": "Python 3"
    },
    "language_info": {
      "name": "python"
    }
  },
  "cells": [
    {
      "cell_type": "markdown",
      "metadata": {
        "id": "view-in-github",
        "colab_type": "text"
      },
      "source": [
        "<a href=\"https://colab.research.google.com/github/harika373/10I7-Batch21/blob/main/Lab2.ipynb\" target=\"_parent\"><img src=\"https://colab.research.google.com/assets/colab-badge.svg\" alt=\"Open In Colab\"/></a>"
      ]
    },
    {
      "cell_type": "code",
      "execution_count": 1,
      "metadata": {
        "colab": {
          "base_uri": "https://localhost:8080/"
        },
        "id": "CVHQoWZ39BKt",
        "outputId": "b1e7739a-c1a5-4cc7-beca-cabf7e32b759"
      },
      "outputs": [
        {
          "output_type": "stream",
          "name": "stdout",
          "text": [
            "Student Marks:\n",
            " [[85 78 92]\n",
            " [76 88 69]\n",
            " [90 91 85]]\n"
          ]
        }
      ],
      "source": [
        "import numpy as np\n",
        "marks = np.array([\n",
        "    [85, 78, 92],\n",
        "    [76, 88, 69],\n",
        "    [90, 91, 85],\n",
        "    ])\n",
        "print(\"Student Marks:\\n\",marks)"
      ]
    },
    {
      "cell_type": "code",
      "source": [
        "#Calculate average, minimum, and maximum markst\n",
        "avg_stu=np.mean(marks, axis=1)\n",
        "print(\"\\nAverage marks per student:\",avg_stu)\n",
        "\n",
        "min_stu=np.min(marks, axis=0)\n",
        "print(\"\\nMinimum marks per student:\",min_stu)\n",
        "\n",
        "max_stu=np.max(marks, axis=0)\n",
        "print(\"\\nMaximum marks per student:\",max_stu)"
      ],
      "metadata": {
        "colab": {
          "base_uri": "https://localhost:8080/"
        },
        "id": "3ixh5lIe9UED",
        "outputId": "e93b7164-ba9e-426e-b352-7d5553757ce5"
      },
      "execution_count": 2,
      "outputs": [
        {
          "output_type": "stream",
          "name": "stdout",
          "text": [
            "\n",
            "Average marks per student: [85.         77.66666667 88.66666667]\n",
            "\n",
            "Minimum marks per student: [76 78 69]\n",
            "\n",
            "Maximum marks per student: [90 91 92]\n"
          ]
        }
      ]
    },
    {
      "cell_type": "code",
      "source": [
        "#Use slicing to retrieve marks of specific students\n",
        "print(\"Marks of student 1:\",marks[0])\n",
        "\n",
        "print(\"Marks of first 3 students :\\n\",marks[:3])"
      ],
      "metadata": {
        "colab": {
          "base_uri": "https://localhost:8080/"
        },
        "id": "P8JxcXkl9mp_",
        "outputId": "94632b01-275e-4b19-b72e-5be2c22ced79"
      },
      "execution_count": 3,
      "outputs": [
        {
          "output_type": "stream",
          "name": "stdout",
          "text": [
            "Marks of student 1: [85 78 92]\n",
            "Marks of first 3 students :\n",
            " [[85 78 92]\n",
            " [76 88 69]\n",
            " [90 91 85]]\n"
          ]
        }
      ]
    },
    {
      "cell_type": "code",
      "source": [
        "#Use boolean indexing to find students scoring above 80 in all subjects\n",
        "high_achievers = marks[np.all(marks > 80, axis=1)]\n",
        "print(\"\\nStudents scoring above 80 in all subjects:\\n\", high_achievers)"
      ],
      "metadata": {
        "colab": {
          "base_uri": "https://localhost:8080/"
        },
        "id": "pATJdb3S90q6",
        "outputId": "61117f6b-bee0-427c-bdab-7869bb200063"
      },
      "execution_count": 4,
      "outputs": [
        {
          "output_type": "stream",
          "name": "stdout",
          "text": [
            "\n",
            "Students scoring above 80 in all subjects:\n",
            " [[90 91 85]]\n"
          ]
        }
      ]
    },
    {
      "cell_type": "code",
      "source": [
        "#Reshape array to observe subject-wise performance\n",
        "subject_wise = marks.T\n",
        "print(\"\\nSubject-wise performance:\\n\", subject_wise)"
      ],
      "metadata": {
        "colab": {
          "base_uri": "https://localhost:8080/"
        },
        "id": "ceXv23M29-9P",
        "outputId": "efcd16e9-6df5-412a-929c-bf7a90a564e1"
      },
      "execution_count": 5,
      "outputs": [
        {
          "output_type": "stream",
          "name": "stdout",
          "text": [
            "\n",
            "Subject-wise performance:\n",
            " [[85 76 90]\n",
            " [78 88 91]\n",
            " [92 69 85]]\n"
          ]
        }
      ]
    },
    {
      "cell_type": "code",
      "source": [
        "#Brief Analysis of Results\n",
        "print(\"1.Student 3 has scored consistently high.\")\n",
        "print(\"2.Subject 3 has the highest average performance\")\n",
        "print(\"3.1 student(s) scored above 80 in all subjects.\")"
      ],
      "metadata": {
        "colab": {
          "base_uri": "https://localhost:8080/"
        },
        "id": "N8AYaYkA-IO-",
        "outputId": "447ef387-85c8-49db-fe31-c86380ba9cd7"
      },
      "execution_count": 6,
      "outputs": [
        {
          "output_type": "stream",
          "name": "stdout",
          "text": [
            "1.Student 3 has scored consistently high.\n",
            "2.Subject 3 has the highest average performance\n",
            "3.1 student(s) scored above 80 in all subjects.\n"
          ]
        }
      ]
    }
  ]
}