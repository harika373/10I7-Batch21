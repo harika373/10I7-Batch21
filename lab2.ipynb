{
  "nbformat": 4,
  "nbformat_minor": 0,
  "metadata": {
    "colab": {
      "provenance": [],
      "authorship_tag": "ABX9TyPbklNe2VwTCzT+muk4hN1J",
      "include_colab_link": true
    },
    "kernelspec": {
      "name": "python3",
      "display_name": "Python 3"
    },
    "language_info": {
      "name": "python"
    }
  },
  "cells": [
    {
      "cell_type": "markdown",
      "metadata": {
        "id": "view-in-github",
        "colab_type": "text"
      },
      "source": [
        "<a href=\"https://colab.research.google.com/github/harika373/10I7-Batch21/blob/main/lab2.ipynb\" target=\"_parent\"><img src=\"https://colab.research.google.com/assets/colab-badge.svg\" alt=\"Open In Colab\"/></a>"
      ]
    },
    {
      "cell_type": "code",
      "execution_count": 1,
      "metadata": {
        "colab": {
          "base_uri": "https://localhost:8080/"
        },
        "id": "zziS193izgJ0",
        "outputId": "1f80e14f-330c-4538-c2f7-9ad2e15c6398"
      },
      "outputs": [
        {
          "output_type": "stream",
          "name": "stdout",
          "text": [
            "Student Marks:\n",
            " [[85 78 92]\n",
            " [76 88 69]\n",
            " [90 91 85]]\n"
          ]
        }
      ],
      "source": [
        "import numpy as np\n",
        "marks = np.array([\n",
        "    [85, 78, 92],\n",
        "    [76, 88, 69],\n",
        "    [90, 91, 85],\n",
        "    ])\n",
        "print(\"Student Marks:\\n\",marks)\n",
        ""
      ]
    },
    {
      "cell_type": "code",
      "source": [
        "avg_stu=np.mean(marks, axis=1)\n",
        "print(\"\\nAverage marks per student:\",avg_stu)\n",
        "\n",
        "min_stu=np.min(marks, axis=0)\n",
        "print(\"\\nMinimum marks per student:\",min_stu)\n",
        "\n",
        "max_stu=np.max(marks, axis=0)\n",
        "print(\"\\nMaximum marks per student:\",max_stu)\n"
      ],
      "metadata": {
        "colab": {
          "base_uri": "https://localhost:8080/"
        },
        "id": "QmYiYHLWz3jB",
        "outputId": "0e2f4d7e-afe5-48a4-ce3c-befa015f04ab"
      },
      "execution_count": 2,
      "outputs": [
        {
          "output_type": "stream",
          "name": "stdout",
          "text": [
            "\n",
            "Average marks per student: [85.         77.66666667 88.66666667]\n",
            "\n",
            "Minimum marks per student: [76 78 69]\n",
            "\n",
            "Maximum marks per student: [90 91 92]\n"
          ]
        }
      ]
    },
    {
      "cell_type": "code",
      "source": [
        "print(\"Marks of student 1:\",marks[0])\n",
        "\n",
        "print(\"Marks of first 3 students :\\n\",marks[:3])"
      ],
      "metadata": {
        "colab": {
          "base_uri": "https://localhost:8080/"
        },
        "id": "5scmzOl8z7oW",
        "outputId": "b64daeb7-e1e8-4b1c-93cc-0a979500ef46"
      },
      "execution_count": 3,
      "outputs": [
        {
          "output_type": "stream",
          "name": "stdout",
          "text": [
            "Marks of student 1: [85 78 92]\n",
            "Marks of first 3 students :\n",
            " [[85 78 92]\n",
            " [76 88 69]\n",
            " [90 91 85]]\n"
          ]
        }
      ]
    },
    {
      "cell_type": "code",
      "source": [
        "high_achievers = marks[np.all(marks > 80, axis=1)]\n",
        "print(\"\\nStudents scoring above 80 in all subjects:\\n\", high_achievers)"
      ],
      "metadata": {
        "colab": {
          "base_uri": "https://localhost:8080/"
        },
        "id": "0KTRE0iu0JZ1",
        "outputId": "835802a0-f9dd-431c-8541-c5c18bbbd942"
      },
      "execution_count": 4,
      "outputs": [
        {
          "output_type": "stream",
          "name": "stdout",
          "text": [
            "\n",
            "Students scoring above 80 in all subjects:\n",
            " [[90 91 85]]\n"
          ]
        }
      ]
    },
    {
      "cell_type": "code",
      "source": [
        "subject_wise = marks.T\n",
        "print(\"\\nSubject-wise performance:\\n\", subject_wise)\n",
        ""
      ],
      "metadata": {
        "colab": {
          "base_uri": "https://localhost:8080/"
        },
        "id": "uFLXTb2Q0NgX",
        "outputId": "c96a8511-0a56-48a3-d0b5-6047f53b326d"
      },
      "execution_count": 5,
      "outputs": [
        {
          "output_type": "stream",
          "name": "stdout",
          "text": [
            "\n",
            "Subject-wise performance:\n",
            " [[85 76 90]\n",
            " [78 88 91]\n",
            " [92 69 85]]\n"
          ]
        }
      ]
    },
    {
      "cell_type": "code",
      "source": [
        "print(\"1.Student 3 has scored consistently high.\")\n",
        "print(\"2.Subject 3 has the highest average performance\")\n",
        "print(\"3.1 student(s) scored above 80 in all subjects.\")"
      ],
      "metadata": {
        "colab": {
          "base_uri": "https://localhost:8080/"
        },
        "id": "Ox9SVcX10S6i",
        "outputId": "9b7d5791-2730-48c8-bd34-e6a0da0a22de"
      },
      "execution_count": 6,
      "outputs": [
        {
          "output_type": "stream",
          "name": "stdout",
          "text": [
            "1.Student 3 has scored consistently high.\n",
            "2.Subject 3 has the highest average performance\n",
            "3.1 student(s) scored above 80 in all subjects.\n"
          ]
        }
      ]
    }
  ]
}